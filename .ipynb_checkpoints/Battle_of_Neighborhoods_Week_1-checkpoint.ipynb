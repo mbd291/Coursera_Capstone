{
 "cells": [
  {
   "cell_type": "markdown",
   "id": "beautiful-transition",
   "metadata": {},
   "source": [
    "# Applied Data Science Capstone\n",
    "## Batle of Neighborhoods\n",
    "### Week 1\n",
    "### Author: Miguel Burg Demay\n",
    "#### July 2021"
   ]
  },
  {
   "cell_type": "markdown",
   "id": "consolidated-proxy",
   "metadata": {},
   "source": [
    "# 1. Introduction/Business Problem"
   ]
  },
  {
   "cell_type": "markdown",
   "id": "suspended-herald",
   "metadata": {},
   "source": [
    "Living in New York is a dream for several people. The city which never sleeps, according to Sinatra's words, has an active  social life and a huge amount of job opportunities. \n",
    "\n",
    "However, some people must leave New York. Some persons look for quiet places to live, because they do not like the New York busy lifestyle. On the other hand, there are people who love New York, but have to move to another city, in the search for better job opportunities. \n",
    "\n",
    "Moreover, some enterprises have offices in several cities, and their employees are supposed to move to other city for a while. It is important for these enterprises that their colaborators will be happy living in these new cities. If not, they will go back to New York and look for another job. \n",
    "\n",
    "Would not it be interesting if it was possible to estimate if someone will be happy in another city, before moving? And in which neighborhood should someone search for a place to live, in the new city? \n",
    "\n",
    "Yes, it would be nice to have this answer before the decision for a move is made by persons or enterprises, who could prepare themselves better for this change. It would be interesting for persons, enterprises and agents/brokers. \n",
    "That is what is intended to be answered in this project.  \n"
   ]
  },
  {
   "cell_type": "markdown",
   "id": "secure-difference",
   "metadata": {},
   "source": [
    "# 2. Data"
   ]
  },
  {
   "cell_type": "markdown",
   "id": "round-briefs",
   "metadata": {},
   "source": [
    "This analysis could be performed for any city. However, as example, it is going to be focused on people moving from New York to Toronto. \n",
    "The main idea of the system is:\n",
    "1. ask the client (who is moving to another town) for selecting the neighborhoods in New York where he likes or would like to live. \n",
    "2. using Foursquare data, identify the most relevant venues in these neighborhoods. \n",
    "3. train a prediction model for these data. \n",
    "4. use the developed model and Toronto Foursquare data to predict the neighborhoods in Toronto where the client should live. \n",
    "\n"
   ]
  },
  {
   "cell_type": "code",
   "execution_count": null,
   "id": "perceived-groove",
   "metadata": {},
   "outputs": [],
   "source": []
  }
 ],
 "metadata": {
  "kernelspec": {
   "display_name": "Python 3",
   "language": "python",
   "name": "python3"
  },
  "language_info": {
   "codemirror_mode": {
    "name": "ipython",
    "version": 3
   },
   "file_extension": ".py",
   "mimetype": "text/x-python",
   "name": "python",
   "nbconvert_exporter": "python",
   "pygments_lexer": "ipython3",
   "version": "3.7.9"
  }
 },
 "nbformat": 4,
 "nbformat_minor": 5
}
