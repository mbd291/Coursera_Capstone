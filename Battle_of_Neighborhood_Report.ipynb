{
 "cells": [
  {
   "cell_type": "markdown",
   "id": "beautiful-transition",
   "metadata": {},
   "source": [
    "# Applied Data Science Capstone\n",
    "## Batle of Neighborhoods\n",
    "### Week 2: Report\n",
    "### Author: Miguel Burg Demay\n",
    "#### July 2021"
   ]
  },
  {
   "cell_type": "markdown",
   "id": "consolidated-proxy",
   "metadata": {},
   "source": [
    "# 1. Introduction/Business Problem"
   ]
  },
  {
   "cell_type": "markdown",
   "id": "suspended-herald",
   "metadata": {},
   "source": [
    "Living in New York is a dream for several people. The city which never sleeps, according to Sinatra's words, has an active  social life and a huge amount of job opportunities. \n",
    "\n",
    "However, some people must leave New York. Some persons look for quiet places to live, because they do not like the New York busy lifestyle. On the other hand, there are people who love New York, but have to move to another city, in the search for better job opportunities. \n",
    "\n",
    "Moreover, some enterprises have offices in several cities, and their employees are supposed to move to other city for a while. It is important for these enterprises that their colaborators will be happy living in these new cities. If not, they will go back to New York and look for another job. \n",
    "\n",
    "Would not it be interesting if it was possible to estimate if someone will be happy in another city, before moving? And in which neighborhood should someone search for a place to live, in the new city? \n",
    "\n",
    "Yes, it would be nice to have this answer before the decision for a move is made by persons or enterprises, who could prepare themselves better for this change. It would be interesting for persons, enterprises and agents/brokers. \n",
    "That is what is intended to be answered in this project.  \n"
   ]
  },
  {
   "cell_type": "markdown",
   "id": "secure-difference",
   "metadata": {},
   "source": [
    "# 2. Data"
   ]
  },
  {
   "cell_type": "markdown",
   "id": "round-briefs",
   "metadata": {},
   "source": [
    "This analysis could be performed for any city. However, as example, it is going to be focused on people moving from New York to Toronto. \n",
    "The main idea of the system is:\n",
    "1. ask the client (who is moving to another town) for selecting the neighborhoods in New York where he likes or would like to live. \n",
    "2. using Foursquare data, identify the most relevant venues in these neighborhoods. \n",
    "3. train a prediction model for these data. \n",
    "4. use the developed model and Toronto Foursquare data to predict the neighborhoods in Toronto where the client should live. \n",
    "\n"
   ]
  },
  {
   "cell_type": "markdown",
   "id": "affecting-passing",
   "metadata": {},
   "source": [
    "# 3. Methodology"
   ]
  },
  {
   "cell_type": "markdown",
   "id": "perfect-mention",
   "metadata": {},
   "source": [
    "This project has been developed in 4 steps:\n",
    "1. Data preprocessing\n",
    "2. Selecting places in NY where the clients would like to live. \n",
    "3. Model training\n",
    "4. Predicting the clients most suitable places to live in Toronto. "
   ]
  },
  {
   "cell_type": "markdown",
   "id": "continental-polymer",
   "metadata": {},
   "source": [
    "## 3.1. Data preprocessing"
   ]
  },
  {
   "cell_type": "markdown",
   "id": "plastic-verse",
   "metadata": {},
   "source": [
    "In the preprocessing phase, data from New York and Toront have been cleaned and organized.\n",
    "\n",
    "### 3.1.1 New York Data\n",
    "\n",
    "Data from New York was obtained from the provided file \"newyork_data.json\", from which information about each neighborhood in New York was selected. More specifically: its name, geographic coordinates and associated borough. \n",
    "\n",
    "Then, Foursquare was used to identify the venues near to each neighborhood. All exisiting venues within a circle centered in the geographic coordinates of the each neighborhood, with radius of 500 m, were selected. Another DataFrame was created to store the venues data, which presented 431 different venues categories, which were one hot encoded. \n",
    "\n",
    "Both dataframes were merged, and the resulting dataframe was grouped by the neighborhood name, summing up the values of each column. \n",
    "\n",
    "### 3.1.2. Toronto Data\n",
    "\n",
    "Data from Toronto was obtained from Wikipedia page [\"List of postal codes of Canada: M\"](https://en.wikipedia.org/wiki/List_of_postal_codes_of_Canada:_M)\n",
    "\n",
    "BeatifulSoup was used to read the wiki page content. A dataframe was created with three columns: Postal Code, Borough and Neighborhood. Itens without assigned boroughs or neighborhoods were removed. Moreover, unessencial information was removed from Boroughs and Neighborhoods names. \n",
    "\n",
    "The provided file \"Geospatial_coordinates.csv\" was used to obtain the geographic coordinates of each Toronto neighborhood. \n",
    "\n",
    "Once again, Foursquare was used to the venues near to each neighborhood. All exisiting venues within a circle centered in the geographic coordinates of the each neighborhood, with radius of 500 m, were selected. Another DataFrame was created to store the venues data, which presented 263 different venues categories, which were one hot encoded.\n",
    "\n",
    "Both dataframes were merged, and the resulting dataframe was grouped by the neighborhood name, summing up the values of each column. \n",
    "\n",
    "### 3.1.3. Selecting Common Venues\n",
    "The amount of identified venues in New York and Toronto was not the same (431 vs. 263). There are some venues in New York, which can not be found in Toronto, and vice-versa. \n",
    "\n",
    "Only the venues which exist in both cities should be regarded in this analysis. After comparing both dataframes, only 237 venues were selected to be used in this analysis.  \n"
   ]
  },
  {
   "cell_type": "markdown",
   "id": "italic-advisory",
   "metadata": {},
   "source": [
    "## 3.2 Selecting places in NY where the clients would like to live\n",
    "\n",
    "In this project, a prediction model is going to be developed for each client. It will be trained and tested using data from New York, from the places where the client would like to live. For that, 3 different clients were simulated:A, B and C. \n",
    "\n",
    "Aiming to verify the developed algorithm performance, clients A, B and C profiles are completelly different, as well as the amount of neighborhoods where they would like to live.  \n",
    "\n",
    "* Client A: an outside person, who feels happy living near to parks and bus stations. 80% of the neighborhoods in New York which have these venues were considered. \n",
    "* Client B: a person very used to the american culture, who likes baseball, basketball, american restaurants, beer and boxing gyms. 60% of the neighborhoods in New York which have these venues were considered. \n",
    "* Client C: someone with not directed linked preferences. He likes brazilian restaurants, commedy clubs, bookstores and cocktail bars.  80% of the neighborhoods in New York which have these venues were considered. \n",
    "\n",
    " "
   ]
  },
  {
   "cell_type": "markdown",
   "id": "fallen-pharmacology",
   "metadata": {},
   "source": [
    "## 3.3 Model Training\n",
    "\n",
    "In order to train the clients models, 80% of the New York data was selected, and 20% for testing. \n",
    "Logistic regression was the chosen regression method, because it provides the likelihood of clients success and failure when choosing a place to live in Toronto. \n",
    "\n",
    "To rate the developed models, it was used the jaccard score. Client A model reached 0.64, client B achieved 0.72, and the client C model obtained 0.88, which indicates a good adjustment of the developed models. "
   ]
  },
  {
   "cell_type": "markdown",
   "id": "laughing-prophet",
   "metadata": {},
   "source": [
    "# 4. Results \n",
    "\n",
    "## Predicting the clients most suitable places to live in Toronto\n",
    "\n",
    "The clients developed models were applied to Toronto data. The following tables present the most recommended neighborhoods in Toronto for the client, as well as the least ones. \n",
    "\n",
    "| Most recommended Neighborhoods for Client A | Likelihood |\n",
    "|---|---|\n",
    "|Regent Park, Harbourfront\t| 60%|\t\n",
    "|Rosedale| 59%|\n",
    "|Willowdale, Newtonbrook\t| 57%|\t\n",
    "|York Mills West| 57%|\n",
    "|Caledonia-Fairbanks\t| 57%|\n",
    "\n",
    "| Least recommended Neighborhoods for Client A | Likelihood |\n",
    "|---|---|\n",
    "|Richmond, Adelaide, King| 23%|\t\n",
    "|First Canadian Place, Underground city| 23%|\n",
    "|Toronto Dominion Centre, Design Exchange| 26%|\t\n",
    "|Garden District, Ryerson\t| 29%|\n",
    "|Runnymede, Swansea| 30%|\n",
    "\n",
    "***\n",
    "\n",
    "| Most recommended Neighborhoods for Client B | Likelihood |\n",
    "|---|---|\n",
    "|Commerce Court, Victoria Hotel| 76%|\t\n",
    "|Garden District, Ryerson\t| 71%|\n",
    "|Toronto Dominion Centre, Design Exchange\t| 67%|\t\n",
    "|St. James Town\t\t| 66%|\n",
    "|Enclave of M5E| 64%|\n",
    "\n",
    "| Least recommended Neighborhoods for Client B | Likelihood |\n",
    "|---|---|\n",
    "|South Steeles, Silverstone, Humbergate, Jamestown, Mount Olive, Beaumond Heights, Thistletown, Albion Gardens| 34%|\t\n",
    "|Bathurst Manor, Wilson Heights, Downsview North\t| 35%|\n",
    "|Parkview Hill, Woodbine Gardens\t| 35%|\t\n",
    "|Alderwood, Long Branch\t| 36%|\n",
    "|Dufferin, Dovercourt Village| 36%|\n",
    "\n",
    "***\n",
    "\n",
    "| Most recommended Neighborhoods for Client C | Likelihood |\n",
    "|---|---|\n",
    "|Commerce Court, Victoria Hotel| 88%|\t\n",
    "|Garden District, Ryerson\t| 82%|\n",
    "|oronto Dominion Centre, Design Exchange\t| 81%|\t\n",
    "|Harbourfront East, Union Station, Toronto Islands\t\t| 79%|\n",
    "|Central Bay Street\t\t| 78%|\n",
    "\n",
    "| Least recommended Neighborhoods for Client C | Likelihood |\n",
    "|---|---|\n",
    "|Clarks Corners, Tam O'Shanter, Sullivan\t| 24%|\t\n",
    "|Bathurst Manor, Wilson Heights, Downsview North| 26%|\n",
    "|India Bazaar, The Beaches West\t| 26%|\t\n",
    "|Thorncliffe Park\t| 27%|\n",
    "|South Steeles, Silverstone, Humbergate, Jamestown, Mount Olive, Beaumond Heights, Thistletown, Albion Gardens| 27%|\n"
   ]
  },
  {
   "cell_type": "markdown",
   "id": "chicken-kentucky",
   "metadata": {},
   "source": [
    "# 5. Discussion\n",
    "\n",
    "It seems clear that the proposed system has reached its goals. Due to the use of logistic regression, it was possible to rank the most and least neighborhoods in Toronto where clients would like to live. \n",
    "\n",
    "Model C has reached a higher jaccard score than models A and B. That explains the higher likelihoods of the most recommended neighborhoods for client C, as well as the lower values for the least recommended, in comparison with clients A and B. \n",
    "\n",
    "For client A, it is most recommended to live in Regent Park, Harbourfront. For client B, in Commerce Court, Victoria Hotel. Finally, for client C, Commerce Court, Victoria Hotel too. \n",
    " \n"
   ]
  },
  {
   "cell_type": "markdown",
   "id": "roman-alignment",
   "metadata": {},
   "source": [
    "# 6. Conclusion\n",
    "\n",
    "This report presents the development of a support system, to help clients that want to move for another city, and do not know in which neighborhood should they live. \n",
    "\n",
    "As example, it was simulated three ficticious clients, who want to move from New York to Toronto. For each client, a logistic regression model was developed, based on their preferences on living in New York. \n",
    "\n",
    "These models were applied to predict the clients satisfaction on living in Toronto, according to the chosen neighborhood to live.\n",
    "\n",
    "It was possible to identify neighborhoods with a likelihood above 75% of client satisfaction. Conversely, it was also possible to verify the neighborhoods where clients would not be happy living there, with likelihoods lower than 40% of satisfaction. \n",
    "\n",
    "Due to narrow development time, the developed system is just a prototype. There are room for improvements. But it shows that the goals and requirements can be obtained, when more time is invested, mainly in client profiles. \n"
   ]
  },
  {
   "cell_type": "code",
   "execution_count": null,
   "id": "gentle-degree",
   "metadata": {},
   "outputs": [],
   "source": []
  }
 ],
 "metadata": {
  "kernelspec": {
   "display_name": "Python 3",
   "language": "python",
   "name": "python3"
  },
  "language_info": {
   "codemirror_mode": {
    "name": "ipython",
    "version": 3
   },
   "file_extension": ".py",
   "mimetype": "text/x-python",
   "name": "python",
   "nbconvert_exporter": "python",
   "pygments_lexer": "ipython3",
   "version": "3.7.9"
  }
 },
 "nbformat": 4,
 "nbformat_minor": 5
}
